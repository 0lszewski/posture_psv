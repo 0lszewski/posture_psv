{
 "cells": [
  {
   "cell_type": "markdown",
   "id": "d6f154ed-4063-4de9-90c9-fb72a6a39ab5",
   "metadata": {},
   "source": [
    "<b>Author:</b> Lukasz Olszewski<br />\n",
    "<b>ver:</b> 0.1<br />\n",
    "<a href=https://github.com/0lszewski/posture_psv>Visit GitHub repo for instructions</a>"
   ]
  },
  {
   "cell_type": "markdown",
   "id": "aeb17786-8246-4f60-875f-6d9be2723c63",
   "metadata": {
    "tags": []
   },
   "source": [
    "## Setup"
   ]
  },
  {
   "cell_type": "code",
   "execution_count": null,
   "id": "87ded8da-501c-446f-8a10-6a6760a4f6ac",
   "metadata": {
    "tags": []
   },
   "outputs": [],
   "source": [
    "import pandas as pd\n",
    "import socket\n",
    "from ipwhois import IPWhois\n",
    "import re\n",
    "import matplotlib.pyplot as plt\n",
    "\n",
    "# If shodan is not installed uncomment the below or run it in system's terminal.\n",
    "#pip install shodan\n",
    "\n",
    "#Required for map-plotting at the end of the Notebook:\n",
    "#pip install pycountry-convert\n",
    "#pip install geopy\n",
    "#pip install folium\n",
    "\n",
    "pd.options.mode.chained_assignment = None  # default='warn'\n",
    "\n",
    "#tune the output display options\n",
    "pd.options.display.max_rows = 1000\n",
    "pd.set_option('display.max_colwidth', 100)\n",
    "pd.options.display.max_columns = 22"
   ]
  },
  {
   "cell_type": "markdown",
   "id": "3837438c-e4fa-4277-8d1e-a740c4a71c0f",
   "metadata": {},
   "source": [
    "<b> Complete your configuration here before proceeding: </b>"
   ]
  },
  {
   "cell_type": "code",
   "execution_count": null,
   "id": "fd15a591-ce4c-4c58-967f-513d1fe359c6",
   "metadata": {
    "tags": []
   },
   "outputs": [],
   "source": [
    "# Example: domain = \"github.com\"\n",
    "domain = \"\""
   ]
  },
  {
   "cell_type": "code",
   "execution_count": null,
   "id": "20e18350-42cc-465c-9191-56843ae1df15",
   "metadata": {
    "tags": []
   },
   "outputs": [],
   "source": [
    "# Set the name of the organization being assessed below. \n",
    "# You need to get the exact org name by trying out some searches on https://shodan.io first using the 'org:' filter. Example org_name=\"GitHub Inc.\"\n",
    "org_name=\"\"\n",
    "\n",
    "# !!!!!!!!!!!!!!!!!!!!!!!!!!!!\n",
    "# C L E A R  BEFORE COMITING\n",
    "\n",
    "SHODAN_API_KEY = \"\"\n",
    "# !!!!!!!!!!!!!!!!!!!!!!!!!!!!"
   ]
  },
  {
   "cell_type": "code",
   "execution_count": null,
   "id": "42a6bf27-6a7d-404d-ac75-0384f213b00c",
   "metadata": {},
   "outputs": [],
   "source": [
    "s_api = shodan.Shodan(SHODAN_API_KEY)"
   ]
  },
  {
   "cell_type": "markdown",
   "id": "a372d1af-0e6b-4f55-8451-76a0f1486ca2",
   "metadata": {},
   "source": [
    "<b>Now select the first cell in the Notebook and either go to the 'Run' menu and select 'Run Selected cell and All Below' or manually continue through the notebook by pressing Shift+Enter to move cell by cell.</b>"
   ]
  },
  {
   "cell_type": "markdown",
   "id": "8f03dbaa-64ea-4038-8d5d-30951a092035",
   "metadata": {
    "tags": []
   },
   "source": [
    "## TLS certificates history section:"
   ]
  },
  {
   "cell_type": "code",
   "execution_count": null,
   "id": "4683a8b2-9320-49fa-b2c1-69ce9feb55cb",
   "metadata": {
    "tags": []
   },
   "outputs": [],
   "source": [
    "# Dataframe with results will land in 'df'. Notebook makes use of the crt.sh online certificate search engine. \n",
    "site = 'https://crt.sh/?q='\n",
    "dfs_list = pd.read_html(site+domain)\n",
    "df = dfs_list[2]\n",
    "df.rename(columns = {'Logged At ⇧':'Logged At'}, inplace=True)"
   ]
  },
  {
   "cell_type": "markdown",
   "id": "67f357ad-37c9-4e9b-a565-02c87e92aca8",
   "metadata": {
    "tags": []
   },
   "source": [
    "<b>Number of entries retreived from crt.sh:</b>"
   ]
  },
  {
   "cell_type": "code",
   "execution_count": null,
   "id": "217fce01-fd3b-4586-92de-7f0639bc8d8a",
   "metadata": {
    "tags": []
   },
   "outputs": [],
   "source": [
    "print(df.count()['crt.sh ID'])"
   ]
  },
  {
   "cell_type": "code",
   "execution_count": null,
   "id": "ccba0025-b2fc-4ca2-8af0-f6c17c8a994a",
   "metadata": {
    "tags": []
   },
   "outputs": [],
   "source": [
    "# Calculating certs Time to Live (TTL). Dev environments which may be interesting from the posture security assessment point of view will often have shortlived Let's Encrypt issued certs.\n",
    "df['TTL'] = pd.to_datetime(df['Not After']) - pd.to_datetime(df['Not Before'])"
   ]
  },
  {
   "cell_type": "code",
   "execution_count": null,
   "id": "041965a6-03b4-4397-b9e9-c1552b905523",
   "metadata": {
    "tags": []
   },
   "outputs": [],
   "source": [
    "# Run this cell to preview results. \n",
    "# Look at the list of uniqe CNs in the returned certificate information. \n",
    "df.groupby('Common Name').count().sort_values('crt.sh ID')['crt.sh ID']"
   ]
  },
  {
   "cell_type": "code",
   "execution_count": null,
   "id": "d92b4d90-0389-4eab-93e8-47de197f21cb",
   "metadata": {
    "tags": []
   },
   "outputs": [],
   "source": [
    "#Deduplicating dataframe\n",
    "df_uniq = df.drop_duplicates(subset=['Common Name'])\n"
   ]
  },
  {
   "cell_type": "code",
   "execution_count": null,
   "id": "a89b75ba-9031-4c4b-9f9e-0a2f86ac3d29",
   "metadata": {
    "tags": []
   },
   "outputs": [],
   "source": [
    "#Resolving the CNs to IPs which will be needed for further enrichement down the line.\n",
    "\n",
    "for cname in df_uniq['Common Name']:\n",
    "    if cname.__contains__(\"*\"): #handling wildcard CNs as we can't really know what's behind them.\n",
    "        df_uniq.loc[df_uniq['Common Name'] == cname, 'IP'] = 'Wildcard'\n",
    "    else:\n",
    "        try:\n",
    "            df_uniq.loc[df_uniq['Common Name'] == cname, 'IP'] = socket.gethostbyname(str(cname))\n",
    "        except:\n",
    "            df_uniq.loc[df_uniq['Common Name'] == cname, 'IP'] = 'NXDOMAIN' #socket.getbyhostname throws an error when unable to resolve so handling this here\n"
   ]
  },
  {
   "cell_type": "code",
   "execution_count": null,
   "id": "1667f9d8-3168-424b-ac50-31cda9231210",
   "metadata": {
    "tags": []
   },
   "outputs": [],
   "source": [
    "# Geting whois information for resolved IPs to spot potentially unmanaged infrastructure or intercepted domains. \n",
    "# This can be done for example by looking for hosting providers (ASN owners) who are not typically used by the assessed org.\n",
    "\n",
    "for ipv4 in df_uniq['IP']:\n",
    "    if re.match(r\"^(([0-9]|[1-9][0-9]|1[0-9]{2}|2[0-4][0-9]|25[0-5])\\.){3}([0-9]|[1-9][0-9]|1[0-9]{2}|2[0-4][0-9]|25[0-5])$\",ipv4):\n",
    "        try:\n",
    "            ipwhois = IPWhois(ipv4).lookup_rdap()\n",
    "            df_uniq.loc[df_uniq['IP'] == ipv4, 'IP whois'] = ipwhois['network']['name']\n",
    "            df_uniq.loc[df_uniq['IP'] == ipv4, 'IP Location'] = ipwhois['asn_country_code']\n",
    "        except:\n",
    "            df_uniq.loc[df_uniq['IP'] == ipv4, 'IP whois'] = 'No information'\n",
    "            df_uniq.loc[df_uniq['IP'] == ipv4, 'IP Location'] = 'No information'\n",
    "    else:\n",
    "        df_uniq.loc[df_uniq['IP'] == ipv4, 'IP whois'] = 'No information'\n",
    "        df_uniq.loc[df_uniq['IP'] == ipv4, 'IP Location'] = 'No information'\n",
    "\n",
    "\n"
   ]
  },
  {
   "cell_type": "markdown",
   "id": "c2a2d0d0-bcac-4fc8-89b9-102b64f6ac9c",
   "metadata": {},
   "source": [
    "<b> Preview the results: </b>"
   ]
  },
  {
   "cell_type": "code",
   "execution_count": null,
   "id": "bd5d2d1d-c357-4827-b0aa-bd34def19cca",
   "metadata": {
    "tags": []
   },
   "outputs": [],
   "source": [
    "df_uniq"
   ]
  },
  {
   "cell_type": "markdown",
   "id": "e28d0453-8006-4d2c-bf70-08019a4b0a16",
   "metadata": {},
   "source": [
    "<b>Save current results to a CSV file:</b>"
   ]
  },
  {
   "cell_type": "code",
   "execution_count": null,
   "id": "2b7b9e9d-f79b-4e8b-bf5f-73734f9e1419",
   "metadata": {},
   "outputs": [],
   "source": [
    "# Set the path to save the csv file\n",
    "df_uniq.to_csv('certs_enriched.csv')"
   ]
  },
  {
   "cell_type": "markdown",
   "id": "64d790f2-ef3c-4540-8d89-582a9deb8a57",
   "metadata": {},
   "source": [
    "<b>Distribution of certificates TTLs.\n",
    "    Dev environments which may be interesting from the posture security assessment point of view will often have shortlived Let's Encrypt issued certs.</b>"
   ]
  },
  {
   "cell_type": "code",
   "execution_count": null,
   "id": "72ae0c38-0116-419a-bbd7-111a095c095d",
   "metadata": {
    "tags": []
   },
   "outputs": [],
   "source": [
    "# Copying active entries to new dataframe for more convenient plot.\n",
    "df_active = df_uniq[df_uniq['IP Location'] != 'No information']\n",
    "df_active.reset_index(drop=True, inplace=True)\n",
    "df_active.drop(columns=['crt.sh ID'], inplace=True)"
   ]
  },
  {
   "cell_type": "code",
   "execution_count": null,
   "id": "e2dfd984-3fc6-4731-884e-a31d25e218d0",
   "metadata": {
    "tags": []
   },
   "outputs": [],
   "source": [
    "df_active.groupby(['TTL']).count()['Common Name'].plot(kind='bar', title='Certificates TTL', figsize=[15,6], color=\"#2C2C2C\")"
   ]
  },
  {
   "cell_type": "markdown",
   "id": "84bedb1d-39bc-46b3-b6ea-2865ca1deb8b",
   "metadata": {
    "tags": []
   },
   "source": [
    "## Enriching with Shodan information:"
   ]
  },
  {
   "cell_type": "code",
   "execution_count": null,
   "id": "1f0c4422-390a-49cf-8c44-d5643fd521cc",
   "metadata": {
    "tags": []
   },
   "outputs": [],
   "source": [
    "# If shodan is not installed uncomment the below or run it in system's terminal.\n",
    "#pip install shodan\n",
    "\n",
    "#Quote from shodan API response body:\n",
    "## We don\\'t care any exception caused by test code in product, swallow it ##\n",
    "\n",
    "import shodan"
   ]
  },
  {
   "cell_type": "code",
   "execution_count": null,
   "id": "dadc068e-69e6-436e-9a1f-94fad1169693",
   "metadata": {
    "tags": []
   },
   "outputs": [],
   "source": [
    "#Adding columns\n",
    "df_active['Organization'] = ''\n",
    "df_active['Open ports'] = ''\n",
    "df_active['TLS ver'] = ''\n",
    "df_active['Cert expired'] = ''\n",
    "df_active['Product'] = ''\n",
    "df_active['Vulns'] = ''\n",
    "df_active['Ports count'] = 0\n",
    "df_active['Banners'] = ''\n",
    "\n",
    "#Deduplicating by IP\n",
    "df_active.drop_duplicates(subset=['IP'], inplace=True)\n",
    "df_active.reset_index(drop=True, inplace=True)\n",
    "df_active.head(1)\n"
   ]
  },
  {
   "cell_type": "code",
   "execution_count": null,
   "id": "e8ea1a08-f8d3-4a08-ba5e-2534fd5ce7ca",
   "metadata": {
    "tags": []
   },
   "outputs": [],
   "source": [
    "# Getting additional IPs from shodan based on org search. \n",
    "\n",
    "org_response = s_api.search(query='org:'+org_name)\n",
    "\n",
    "for item in org_response['matches']:\n",
    "    if df_active.loc[df_active['IP'] == item['ip_str']].empty : #IP not yet in df\n",
    "        df_active.loc[len(df_active.index), 'IP'] = item['ip_str']\n",
    "    else: continue\n",
    "    df_active.loc[df_active['IP'] == item['ip_str'], 'IP Location'] = item['location']['country_code']\n",
    "    try:\n",
    "        df_active.loc[df_active['IP'] == item['ip_str'], 'Issuer Name'] = str(item['ssl']['cert']['issuer']) #result is a dictionary\n",
    "    except: pass\n"
   ]
  },
  {
   "cell_type": "code",
   "execution_count": null,
   "id": "89677e10-e715-4a94-9d3a-76fe82213b31",
   "metadata": {
    "tags": []
   },
   "outputs": [],
   "source": [
    "# Enriching existing IPs with shodan 'ip' and 'search' query information.\n",
    "# Shodan has lousy responses that tend to skip lists and dictionaries if some value is not present in the query results. This makes us do the try each time since we want to continue with any remaining available values.\n",
    "# This may take a while as we're running two queries per each IP in the df_active dataframe.\n",
    "\n",
    "for ipv4 in df_active['IP']:\n",
    "    print(\"Checking: \"+ipv4+\"\\n\")\n",
    "    if re.match(r\"^(([0-9]|[1-9][0-9]|1[0-9]{2}|2[0-4][0-9]|25[0-5])\\.){3}([0-9]|[1-9][0-9]|1[0-9]{2}|2[0-4][0-9]|25[0-5])$\",ipv4):\n",
    "        try:\n",
    "            host = s_api.host(ipv4) #{ip} (host) query\n",
    "            host_search = s_api.search(query='ip:'+ipv4) # 'search' query has additional information available that the 'ip' query doesn't that's why we're doing both\n",
    "        except:\n",
    "            df_active.loc[df_active['IP'] == ipv4, 'Open ports'] = \"Scan needed\"\n",
    "            continue\n",
    "          \n",
    "        try:    \n",
    "            df_active.loc[df_active['IP'] == ipv4, 'Organization'] = host['org']\n",
    "        except: pass\n",
    "        \n",
    "        try:    \n",
    "            df_active.loc[df_active['IP'] == ipv4, 'Open ports'] = ' '.join(map(str, host['ports'])) #'ports' from shodan API is a list but need a str for df\n",
    "        except: pass\n",
    "        \n",
    "        try:\n",
    "            df_active.loc[df_active['IP'] == ipv4, 'Ports count'] = len(host['ports'])\n",
    "        except: pass\n",
    "        \n",
    "        for item in host['data']:\n",
    "            try:\n",
    "                df_active.loc[df_active['IP'] == ipv4, 'Banners'] += ' '+item['data'] #sometimes there are multiple banners\n",
    "            except: pass\n",
    "        \n",
    "        for item in host_search['matches']: #dealing with the search results now\n",
    "            try:\n",
    "                df_active.loc[df_active['IP'] == ipv4, 'Vulns'] = ' '.join(map(str, item['vulns']))\n",
    "            except: pass\n",
    "            try:\n",
    "                df_active.loc[df_active['IP'] == ipv4, 'TLS ver'] = str(item['ssl']['cipher']) #result is a dictionary\n",
    "            except: pass\n",
    "            try:\n",
    "                df_active.loc[df_active['IP'] == ipv4, 'Cert expired'] = item['ssl']['cert']['expired']\n",
    "            except: pass\n",
    "            try:\n",
    "                df_active.loc[df_active['IP'] == ipv4, 'Product'] += '; '+item['product'] #sometimes there are multiple products\n",
    "            except: pass\n",
    "        \n",
    "    else: #in case it's not an IP\n",
    "        df_active.loc[df_active['IP'] == ipv4, 'Organization'] = \"Invalid IP\"\n",
    "        df_active.loc[df_active['IP'] == ipv4, 'Open ports'] = \"Invalid IP\"\n",
    "        df_active.loc[df_active['IP'] == ipv4, 'Banners'] = \"Invalid IP\"\n",
    "\n",
    "df_active.fillna('', inplace=True) #dealing with any missing values"
   ]
  },
  {
   "cell_type": "markdown",
   "id": "dbd0ab80-954f-43eb-a39e-cd1113025414",
   "metadata": {},
   "source": [
    "<b>Summary of open ports combinations on hosts:</b>"
   ]
  },
  {
   "cell_type": "code",
   "execution_count": null,
   "id": "a1647ee8-34ae-4605-b1ec-4cb2aa72d2d6",
   "metadata": {},
   "outputs": [],
   "source": [
    "df_active.groupby(['Open ports']).count()['IP'].sort_values().plot(kind='barh', title='Summary of IP count with open ports.', figsize=[15,3], color=\"#2C2C2C\")"
   ]
  },
  {
   "cell_type": "markdown",
   "id": "bfdea393-d39c-4d13-8eaa-9f21c94a7d41",
   "metadata": {},
   "source": [
    "<b>Looking at certificates issuers may provide additional clues on unmanaged infrastructure. Dev environments may often have shortlived Let's Encrypt issued certs or self signed ones.</b>"
   ]
  },
  {
   "cell_type": "code",
   "execution_count": null,
   "id": "a059e6a8-489e-4313-824b-6a37b66e343f",
   "metadata": {
    "tags": []
   },
   "outputs": [],
   "source": [
    "df_active.groupby(['Issuer Name']).count().sort_values('IP')['IP']"
   ]
  },
  {
   "cell_type": "markdown",
   "id": "60f70df3-b366-48b7-849e-514e52132b04",
   "metadata": {},
   "source": [
    "<b>IPs with the highest number of ports open:</b>"
   ]
  },
  {
   "cell_type": "code",
   "execution_count": null,
   "id": "3f2eff61-9052-4e62-9770-fec018f85515",
   "metadata": {},
   "outputs": [],
   "source": [
    "df_active = df_active.astype({\"Ports count\": int})\n",
    "df_active.groupby(['IP']).sum()['Ports count'].sort_values(ascending=False).head(10)"
   ]
  },
  {
   "cell_type": "markdown",
   "id": "59d470f8-7a26-4230-933c-272bf7fe4352",
   "metadata": {},
   "source": [
    "<b>Organization names identified behind IPs:</b>"
   ]
  },
  {
   "cell_type": "code",
   "execution_count": null,
   "id": "9a368ae3-c1d2-4f4c-b0ab-d2e0bc42d199",
   "metadata": {},
   "outputs": [],
   "source": [
    "df_active[(df_active['Organization'] != 'Scan needed') & (df_active['Organization'] != '')].groupby(['Organization']).count()['IP'].sort_values().plot(kind='barh', title='Identified organizations behinds IPs', figsize=[15,3], color=\"#2C2C2C\")"
   ]
  },
  {
   "cell_type": "code",
   "execution_count": null,
   "id": "0cbc493f-7507-4485-b6de-aa82a97da23f",
   "metadata": {},
   "outputs": [],
   "source": [
    "try:\n",
    "    df_active[df_active['Vulns'] != ''].groupby(['Vulns']).count()['IP'].sort_values().plot(kind='barh', title='Summary of identified vulnerabilities.', color=\"#2C2C2C\")\n",
    "except:\n",
    "    print(\"No vulnerabilities found!\")"
   ]
  },
  {
   "cell_type": "code",
   "execution_count": null,
   "id": "e70f2ded-9459-411d-b181-62c15ced1795",
   "metadata": {},
   "outputs": [],
   "source": [
    "try:\n",
    "    df_active[df_active['Product'] != ''].groupby(['Product']).count()['IP'].sort_values().plot(kind='barh', title='Summary of identified products.', figsize=[15,3], color=\"#2C2C2C\")\n",
    "except:\n",
    "    print(\"No product names found!\")"
   ]
  },
  {
   "cell_type": "code",
   "execution_count": null,
   "id": "1c467706-972a-43bd-ad01-ac14ef4daea3",
   "metadata": {},
   "outputs": [],
   "source": [
    "try:\n",
    "    df_active[df_active['TLS ver'] != ''].groupby(['TLS ver']).count()['IP'].sort_values().plot(kind='barh', title='Summary of identified products.', figsize=[15,3], color=\"#2C2C2C\")\n",
    "except:\n",
    "    print(\"No TLS versions could be discovered!\")"
   ]
  },
  {
   "cell_type": "markdown",
   "id": "7c47682e-af35-47da-ba51-50c8d6b7d1fd",
   "metadata": {
    "tags": []
   },
   "source": [
    "## Save full results set to a CSV file:"
   ]
  },
  {
   "cell_type": "code",
   "execution_count": null,
   "id": "446a67e7-7c11-438e-a228-6a520cd185ab",
   "metadata": {},
   "outputs": [],
   "source": [
    "df_active.to_csv('IPs_enriched_shodan.csv')"
   ]
  },
  {
   "cell_type": "markdown",
   "id": "4619fa55-6d02-48f7-895f-8eb211fc5a93",
   "metadata": {
    "tags": []
   },
   "source": [
    "## Searching - quickly search through results without switching to CSV:"
   ]
  },
  {
   "cell_type": "code",
   "execution_count": null,
   "id": "416c1819-247a-4aae-8315-760e639fb98a",
   "metadata": {},
   "outputs": [],
   "source": [
    "# Set this back to 100 when done searching to restore lower columns width.\n",
    "pd.set_option('display.max_colwidth', 500)"
   ]
  },
  {
   "cell_type": "code",
   "execution_count": null,
   "id": "e2c9d539-08a6-4bae-9c32-570cfacac141",
   "metadata": {
    "tags": []
   },
   "outputs": [],
   "source": [
    "# IP:\n",
    "\n",
    "df_active[df_active['IP'] == 'IP_ADDRESS_HERE']\n"
   ]
  },
  {
   "cell_type": "code",
   "execution_count": null,
   "id": "2df0638a-cfd6-406d-a644-93463d8ae747",
   "metadata": {
    "tags": []
   },
   "outputs": [],
   "source": [
    "# vulns:\n",
    "\n",
    "df_active[df_active['Vulns'].str.contains('CVE_HERE', na=False, case=False)]"
   ]
  },
  {
   "cell_type": "code",
   "execution_count": null,
   "id": "1b9beb5d-6839-4f73-b3f2-d51ed1f693ec",
   "metadata": {
    "scrolled": true,
    "tags": []
   },
   "outputs": [],
   "source": [
    "# Domain name:\n",
    "df_active[df_active['Common Name'].str.contains('SEARCH_PHRASE', na=False, case=False)]"
   ]
  },
  {
   "cell_type": "code",
   "execution_count": null,
   "id": "6f261c0c-2afb-4747-b37f-62a39f99761c",
   "metadata": {
    "tags": []
   },
   "outputs": [],
   "source": [
    "#Domain name doesn't contain:\n",
    "df_active[~df_active['Common Name'].str.contains('SEARCH_PHRASE', na=False, case=False)]"
   ]
  },
  {
   "cell_type": "code",
   "execution_count": null,
   "id": "96cd8835-1fd9-44f9-894c-5506ea425817",
   "metadata": {
    "tags": []
   },
   "outputs": [],
   "source": [
    "# Port(s)\n",
    "\n",
    "df_active[(df_active['Open ports'].str.contains('22') | df_active['Open ports'].str.contains('3389') )]"
   ]
  },
  {
   "cell_type": "code",
   "execution_count": null,
   "id": "3208f307",
   "metadata": {
    "tags": []
   },
   "outputs": [],
   "source": [
    "# Port is not\n",
    "\n",
    "df_active[~df_active['Open ports'].str.contains('443')]"
   ]
  },
  {
   "cell_type": "code",
   "execution_count": null,
   "id": "aa3e9502-976d-4134-8169-75ed8e87ae03",
   "metadata": {
    "tags": []
   },
   "outputs": [],
   "source": [
    "# Expired certificates\n",
    "df_active[df_active['Cert expired'] == True]"
   ]
  },
  {
   "cell_type": "code",
   "execution_count": null,
   "id": "bcaa1822-6525-4a40-bde5-a32a05a483b8",
   "metadata": {
    "tags": []
   },
   "outputs": [],
   "source": [
    "# Banner is:\n",
    "df_active[df_active['Banners'].str.contains('SEARCH_PHRASE', case=False)]"
   ]
  },
  {
   "cell_type": "code",
   "execution_count": null,
   "id": "0be0d226",
   "metadata": {
    "tags": []
   },
   "outputs": [],
   "source": [
    "# Banner is not:\n",
    "df_active[~df_active['Banners'].str.contains('SEARCH_PHRASE')]"
   ]
  },
  {
   "cell_type": "code",
   "execution_count": null,
   "id": "3fe1c1d1-677a-40af-853c-9b88d379cc77",
   "metadata": {
    "tags": []
   },
   "outputs": [],
   "source": [
    "#cert issuer \n",
    "df_active[df_active['Issuer Name'].str.contains('SEARCH_PHRASE')]"
   ]
  },
  {
   "cell_type": "markdown",
   "id": "793a530b-3ca7-41bc-aacf-ebeaed1cd83c",
   "metadata": {
    "tags": []
   },
   "source": [
    "## Ploting the IPs on a map to identify outliers:"
   ]
  },
  {
   "cell_type": "code",
   "execution_count": null,
   "id": "84ec5845-d8b1-4273-b132-dc060ee5648a",
   "metadata": {
    "tags": []
   },
   "outputs": [],
   "source": [
    "from geopy.geocoders import Nominatim\n",
    "import folium\n",
    "from folium.plugins import MarkerCluster\n",
    "\n",
    "geolocator = Nominatim(user_agent=\"posture_psv\")\n",
    "\n",
    "df_map = df_active\n",
    "df_map.drop_duplicates(subset=['IP'], inplace=True) #don't want duplicated IPs for map plotting\n",
    "\n",
    "#Translating country codes from whois IP Location to coordinates.\n",
    "#Not very efficient; need to incorporate dictionary of already located codes to avoid duplicated resolution queries for repeating country codes.\n",
    "for country_code in df_map['IP Location']:\n",
    "    try:\n",
    "        df_map.loc[df_map['IP Location'] == country_code, 'geo_Lat'] = geolocator.geocode(country_code).latitude\n",
    "        df_map.loc[df_map['IP Location'] == country_code, 'geo_Long'] = geolocator.geocode(country_code).longitude\n",
    "    except:\n",
    "        df_map.loc[df_map['IP Location'] == country_code, 'geo_Lat'] = \"\"\n",
    "        df_map.loc[df_map['IP Location'] == country_code, 'geo_Long'] = \"\""
   ]
  },
  {
   "cell_type": "code",
   "execution_count": null,
   "id": "fa2ca210-5712-47f0-baac-4e2fce43a19a",
   "metadata": {
    "tags": []
   },
   "outputs": [],
   "source": [
    "#selecting a map\n",
    "world_map= folium.Map(tiles=\"cartodbpositron\")\n",
    "marker_cluster = MarkerCluster().add_to(world_map)\n",
    "\n",
    "#populating data to the map\n",
    "for i in range(len(df_map)):\n",
    "        lat = df_map.iloc[i]['geo_Lat']\n",
    "        long = df_map.iloc[i]['geo_Long']\n",
    "        radius=5\n",
    "        popup_text = \"\"\"Country : {}<br>\"\"\"\n",
    "        popup_text = popup_text.format(df_map.iloc[i]['IP Location'])\n",
    "        folium.CircleMarker(location = [lat, long], radius=radius, popup= popup_text, fill =True).add_to(marker_cluster)"
   ]
  },
  {
   "cell_type": "code",
   "execution_count": null,
   "id": "ae0d2426-fbe3-4f16-8d91-7e60e15dd36e",
   "metadata": {
    "tags": []
   },
   "outputs": [],
   "source": [
    "#Display the map with IP geolocations.\n",
    "world_map"
   ]
  },
  {
   "cell_type": "code",
   "execution_count": null,
   "id": "a6acd902",
   "metadata": {},
   "outputs": [],
   "source": []
  }
 ],
 "metadata": {
  "kernelspec": {
   "display_name": "Python 3 (ipykernel)",
   "language": "python",
   "name": "python3"
  },
  "language_info": {
   "codemirror_mode": {
    "name": "ipython",
    "version": 3
   },
   "file_extension": ".py",
   "mimetype": "text/x-python",
   "name": "python",
   "nbconvert_exporter": "python",
   "pygments_lexer": "ipython3",
   "version": "3.8.5"
  }
 },
 "nbformat": 4,
 "nbformat_minor": 5
}
